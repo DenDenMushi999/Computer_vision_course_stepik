{
 "cells": [
  {
   "cell_type": "code",
   "execution_count": 2,
   "metadata": {
    "colab": {},
    "colab_type": "code",
    "id": "DWr6cvb9pS3J"
   },
   "outputs": [],
   "source": [
    "import torch\n",
    "import random\n",
    "import numpy as np\n",
    "\n",
    "random.seed(0)\n",
    "np.random.seed(0)\n",
    "torch.manual_seed(0)\n",
    "torch.cuda.manual_seed(0)\n",
    "torch.backends.cudnn.deterministic = True"
   ]
  },
  {
   "cell_type": "code",
   "execution_count": 3,
   "metadata": {
    "colab": {},
    "colab_type": "code",
    "id": "MqGQWTDIpS3R"
   },
   "outputs": [
    {
     "name": "stderr",
     "output_type": "stream",
     "text": [
      "/home/dendav/.local/lib/python3.8/site-packages/torchvision/datasets/mnist.py:498: UserWarning: The given NumPy array is not writeable, and PyTorch does not support non-writeable tensors. This means you can write to the underlying (supposedly non-writeable) NumPy array using the tensor. You may want to copy the array to protect its data or make it writeable before converting it to a tensor. This type of warning will be suppressed for the rest of this program. (Triggered internally at  /pytorch/torch/csrc/utils/tensor_numpy.cpp:180.)\n",
      "  return torch.from_numpy(parsed.astype(m[2], copy=False)).view(*s)\n"
     ]
    }
   ],
   "source": [
    "import torchvision.datasets\n",
    "MNIST_train = torchvision.datasets.MNIST('./', download=True, train=True)\n",
    "MNIST_test = torchvision.datasets.MNIST('./', download=True, train=False)"
   ]
  },
  {
   "cell_type": "code",
   "execution_count": 4,
   "metadata": {
    "colab": {},
    "colab_type": "code",
    "id": "vv_Lz7PYpS3U"
   },
   "outputs": [
    {
     "name": "stderr",
     "output_type": "stream",
     "text": [
      "/home/dendav/.local/lib/python3.8/site-packages/torchvision/datasets/mnist.py:62: UserWarning: train_data has been renamed data\n",
      "  warnings.warn(\"train_data has been renamed data\")\n",
      "/home/dendav/.local/lib/python3.8/site-packages/torchvision/datasets/mnist.py:52: UserWarning: train_labels has been renamed targets\n",
      "  warnings.warn(\"train_labels has been renamed targets\")\n",
      "/home/dendav/.local/lib/python3.8/site-packages/torchvision/datasets/mnist.py:67: UserWarning: test_data has been renamed data\n",
      "  warnings.warn(\"test_data has been renamed data\")\n",
      "/home/dendav/.local/lib/python3.8/site-packages/torchvision/datasets/mnist.py:57: UserWarning: test_labels has been renamed targets\n",
      "  warnings.warn(\"test_labels has been renamed targets\")\n"
     ]
    }
   ],
   "source": [
    "X_train = MNIST_train.train_data\n",
    "y_train = MNIST_train.train_labels\n",
    "X_test = MNIST_test.test_data\n",
    "y_test = MNIST_test.test_labels"
   ]
  },
  {
   "cell_type": "code",
   "execution_count": 5,
   "metadata": {
    "colab": {
     "base_uri": "https://localhost:8080/",
     "height": 35
    },
    "colab_type": "code",
    "id": "hMhsAedlrQF5",
    "outputId": "ae08bd21-79ff-48da-9886-48996a178110"
   },
   "outputs": [
    {
     "data": {
      "text/plain": [
       "(torch.uint8, torch.int64)"
      ]
     },
     "execution_count": 5,
     "metadata": {},
     "output_type": "execute_result"
    }
   ],
   "source": [
    "X_train.dtype, y_train.dtype"
   ]
  },
  {
   "cell_type": "code",
   "execution_count": 6,
   "metadata": {
    "colab": {},
    "colab_type": "code",
    "id": "_yTaVOrPvap6"
   },
   "outputs": [],
   "source": [
    "X_train = X_train.float()\n",
    "X_test = X_test.float()"
   ]
  },
  {
   "cell_type": "code",
   "execution_count": 7,
   "metadata": {
    "colab": {
     "base_uri": "https://localhost:8080/",
     "height": 35
    },
    "colab_type": "code",
    "id": "_gfupg4kpS3X",
    "outputId": "e72c3ff4-50f7-4695-d5d5-f838e7ac2667"
   },
   "outputs": [
    {
     "data": {
      "text/plain": [
       "(torch.Size([60000, 28, 28]), torch.Size([10000, 28, 28]))"
      ]
     },
     "execution_count": 7,
     "metadata": {},
     "output_type": "execute_result"
    }
   ],
   "source": [
    "X_train.shape, X_test.shape"
   ]
  },
  {
   "cell_type": "code",
   "execution_count": 8,
   "metadata": {
    "colab": {
     "base_uri": "https://localhost:8080/",
     "height": 35
    },
    "colab_type": "code",
    "id": "zEC1RXBEz_SW",
    "outputId": "48b9a605-2622-4188-b326-116b675bd499"
   },
   "outputs": [
    {
     "data": {
      "text/plain": [
       "(torch.Size([60000]), torch.Size([10000]))"
      ]
     },
     "execution_count": 8,
     "metadata": {},
     "output_type": "execute_result"
    }
   ],
   "source": [
    "y_train.shape, y_test.shape"
   ]
  },
  {
   "cell_type": "code",
   "execution_count": 9,
   "metadata": {
    "colab": {
     "base_uri": "https://localhost:8080/",
     "height": 365
    },
    "colab_type": "code",
    "id": "Z1tFXMwJpS3e",
    "outputId": "e7c2778b-d6f5-4718-ea28-fc8544f0416c"
   },
   "outputs": [
    {
     "data": {
      "image/png": "[encoded data removed]",
      "text/plain": [
       "<Figure size 432x288 with 1 Axes>"
      ]
     },
     "metadata": {
      "needs_background": "light"
     },
     "output_type": "display_data"
    },
    {
     "name": "stdout",
     "output_type": "stream",
     "text": [
      "tensor(5)\n"
     ]
    }
   ],
   "source": [
    "import matplotlib.pyplot as plt\n",
    "plt.imshow(X_train[0, :, :])\n",
    "plt.show()\n",
    "print(y_train[0])"
   ]
  },
  {
   "cell_type": "code",
   "execution_count": 10,
   "metadata": {
    "colab": {},
    "colab_type": "code",
    "id": "IUZgNg7zpS3j"
   },
   "outputs": [],
   "source": [
    "X_train = X_train.reshape([-1, 28 * 28])\n",
    "X_test = X_test.reshape([-1, 28 * 28])"
   ]
  },
  {
   "cell_type": "code",
   "execution_count": 41,
   "metadata": {
    "colab": {},
    "colab_type": "code",
    "id": "k7l65slppS3l"
   },
   "outputs": [],
   "source": [
    "class MNISTNet(torch.nn.Module):\n",
    "    def __init__(self, n_hidden_neurons):\n",
    "        super(MNISTNet, self).__init__()\n",
    "        self.fc1 = torch.nn.Linear(28 * 28, n_hidden_neurons)\n",
    "        self.ac1 = torch.nn.Sigmoid()\n",
    "        self.fc2 = torch.nn.Linear(n_hidden_neurons, n_hidden_neurons)\n",
    "        self.ac2 = torch.nn.Sigmoid()\n",
    "        self.fc3 = torch.nn.Linear(n_hidden_neurons, 10)\n",
    "         \n",
    "    \n",
    "    def forward(self, x):\n",
    "        x = self.fc1(x)\n",
    "        x = self.ac1(x)\n",
    "        x = self.fc2(x)\n",
    "        x = self.ac2(x)\n",
    "        x = self.fc3(x)\n",
    "\n",
    "        return x\n",
    "    \n",
    "mnist_net = MNISTNet(100)"
   ]
  },
  {
   "cell_type": "code",
   "execution_count": 42,
   "metadata": {
    "colab": {},
    "colab_type": "code",
    "id": "FJp7t3dR0pC5"
   },
   "outputs": [
    {
     "data": {
      "text/plain": [
       "True"
      ]
     },
     "execution_count": 42,
     "metadata": {},
     "output_type": "execute_result"
    }
   ],
   "source": [
    "torch.cuda.is_available()"
   ]
  },
  {
   "cell_type": "code",
   "execution_count": 43,
   "metadata": {
    "colab": {},
    "colab_type": "code",
    "id": "ShQDv_w-0rz8"
   },
   "outputs": [
    {
     "name": "stdout",
     "output_type": "stream",
     "text": [
      "Tue Jun 21 13:50:35 2022       \n",
      "+-----------------------------------------------------------------------------+\n",
      "| NVIDIA-SMI 515.48.07    Driver Version: 515.48.07    CUDA Version: 11.7     |\n",
      "|-------------------------------+----------------------+----------------------+\n",
      "| GPU  Name        Persistence-M| Bus-Id        Disp.A | Volatile Uncorr. ECC |\n",
      "| Fan  Temp  Perf  Pwr:Usage/Cap|         Memory-Usage | GPU-Util  Compute M. |\n",
      "|                               |                      |               MIG M. |\n",
      "|===============================+======================+======================|\n",
      "|   0  NVIDIA GeForce ...  On   | 00000000:01:00.0 Off |                  N/A |\n",
      "| N/A   45C    P5    N/A /  N/A |   1989MiB /  2048MiB |      0%      Default |\n",
      "|                               |                      |                  N/A |\n",
      "+-------------------------------+----------------------+----------------------+\n",
      "                                                                               \n",
      "+-----------------------------------------------------------------------------+\n",
      "| Processes:                                                                  |\n",
      "|  GPU   GI   CI        PID   Type   Process name                  GPU Memory |\n",
      "|        ID   ID                                                   Usage      |\n",
      "|=============================================================================|\n",
      "|    0   N/A  N/A      1204      G   /usr/lib/xorg/Xorg                  2MiB |\n",
      "|    0   N/A  N/A      6053      C   /bin/python3                     1983MiB |\n",
      "+-----------------------------------------------------------------------------+\n"
     ]
    }
   ],
   "source": [
    "!nvidia-smi"
   ]
  },
  {
   "cell_type": "code",
   "execution_count": 44,
   "metadata": {
    "colab": {},
    "colab_type": "code",
    "id": "iUHy-780po9d"
   },
   "outputs": [
    {
     "data": {
      "text/plain": [
       "[Parameter containing:\n",
       " tensor([[-0.0251,  0.0154, -0.0265,  ..., -0.0345,  0.0319,  0.0116],\n",
       "         [-0.0326,  0.0121,  0.0266,  ..., -0.0350, -0.0170,  0.0121],\n",
       "         [-0.0005, -0.0210, -0.0297,  ...,  0.0027,  0.0343,  0.0209],\n",
       "         ...,\n",
       "         [ 0.0203,  0.0047, -0.0343,  ..., -0.0313,  0.0138, -0.0060],\n",
       "         [ 0.0015,  0.0134, -0.0081,  ..., -0.0142, -0.0223,  0.0336],\n",
       "         [-0.0055, -0.0069,  0.0321,  ...,  0.0084,  0.0344,  0.0310]],\n",
       "        device='cuda:0', requires_grad=True),\n",
       " Parameter containing:\n",
       " tensor([ 0.0220, -0.0179,  0.0163,  0.0036,  0.0222,  0.0354, -0.0313,  0.0297,\n",
       "         -0.0344, -0.0012,  0.0109, -0.0193,  0.0236, -0.0225, -0.0291, -0.0206,\n",
       "         -0.0239,  0.0298,  0.0077, -0.0111, -0.0098, -0.0270, -0.0299, -0.0011,\n",
       "         -0.0015,  0.0037, -0.0093, -0.0328, -0.0001, -0.0332,  0.0296, -0.0140,\n",
       "          0.0275,  0.0296, -0.0334, -0.0355, -0.0208,  0.0072, -0.0157,  0.0339,\n",
       "          0.0195, -0.0130, -0.0100, -0.0099,  0.0080, -0.0190,  0.0207, -0.0352,\n",
       "         -0.0314,  0.0008,  0.0067,  0.0066,  0.0117, -0.0044, -0.0055, -0.0084,\n",
       "          0.0114,  0.0218,  0.0294, -0.0073, -0.0035,  0.0356, -0.0051,  0.0201,\n",
       "          0.0035, -0.0329, -0.0035, -0.0049, -0.0138,  0.0215, -0.0300, -0.0132,\n",
       "          0.0262,  0.0019,  0.0066, -0.0302, -0.0093, -0.0333,  0.0095,  0.0070,\n",
       "          0.0296, -0.0283, -0.0127, -0.0319, -0.0251,  0.0006,  0.0080,  0.0021,\n",
       "         -0.0237, -0.0002,  0.0320, -0.0234,  0.0267,  0.0250, -0.0224, -0.0255,\n",
       "          0.0164, -0.0263, -0.0145, -0.0342], device='cuda:0',\n",
       "        requires_grad=True),\n",
       " Parameter containing:\n",
       " tensor([[-0.0520,  0.0161,  0.0334,  ..., -0.0652, -0.0682, -0.0961],\n",
       "         [-0.0060,  0.0274, -0.0864,  ..., -0.0448, -0.0540,  0.0541],\n",
       "         [ 0.0072, -0.0423, -0.0103,  ..., -0.0819,  0.0010, -0.0708],\n",
       "         ...,\n",
       "         [ 0.0104,  0.0026, -0.0430,  ...,  0.0960,  0.0475,  0.0194],\n",
       "         [ 0.0049, -0.0350, -0.0648,  ..., -0.0970,  0.0577, -0.0722],\n",
       "         [ 0.0432, -0.0620, -0.0705,  ...,  0.0353, -0.0522,  0.0300]],\n",
       "        device='cuda:0', requires_grad=True),\n",
       " Parameter containing:\n",
       " tensor([ 0.0534, -0.0078, -0.0786,  0.0880, -0.0685, -0.0200,  0.0087, -0.0287,\n",
       "          0.0762,  0.0486, -0.0578,  0.0990,  0.0664, -0.0202, -0.0125,  0.0102,\n",
       "          0.0250,  0.0975,  0.0124, -0.0296, -0.0648, -0.0469,  0.0841, -0.0028,\n",
       "          0.0836, -0.0450, -0.0383, -0.0724,  0.0048,  0.0402, -0.0731, -0.0623,\n",
       "          0.0939, -0.0779,  0.0381,  0.0262, -0.0735,  0.0278,  0.0622,  0.0582,\n",
       "         -0.0940,  0.0274, -0.0803,  0.0354, -0.0272, -0.0554, -0.0533, -0.0626,\n",
       "         -0.0862,  0.0238,  0.0267, -0.0838, -0.0867,  0.0059,  0.0515, -0.0326,\n",
       "         -0.0708, -0.0243, -0.0979,  0.0058,  0.0659,  0.0810, -0.0152, -0.0523,\n",
       "         -0.0324, -0.0544,  0.0299,  0.0163, -0.0119, -0.0357, -0.0627,  0.0375,\n",
       "          0.0460,  0.0209,  0.0684, -0.0754,  0.0178, -0.0634,  0.0310,  0.0103,\n",
       "          0.0683,  0.0573, -0.0358, -0.0332,  0.0815, -0.0921, -0.0756, -0.0364,\n",
       "          0.0227,  0.0348,  0.0283, -0.0202, -0.0730, -0.0878, -0.0753,  0.0251,\n",
       "         -0.0024,  0.0500,  0.0289, -0.0549], device='cuda:0',\n",
       "        requires_grad=True),\n",
       " Parameter containing:\n",
       " tensor([[ 2.7275e-02, -3.3683e-02, -3.7476e-03, -2.5720e-02,  8.0100e-02,\n",
       "           2.2128e-03,  8.9988e-03, -6.3223e-02,  5.3010e-04, -2.7539e-02,\n",
       "           6.9026e-02,  9.7284e-02, -9.5289e-02, -8.7610e-02, -4.7492e-02,\n",
       "          -6.1305e-02,  9.4761e-02, -1.8876e-02,  8.7988e-02,  3.3045e-02,\n",
       "           7.3964e-02, -4.4936e-02, -6.4777e-02,  7.3583e-02, -5.6023e-02,\n",
       "          -2.4058e-02,  2.6442e-02, -2.5441e-02,  2.7244e-02, -4.6788e-02,\n",
       "          -9.8058e-02,  5.9671e-02,  6.2459e-02,  2.1173e-02,  7.3528e-02,\n",
       "          -2.8773e-02,  4.1107e-02, -3.3799e-02,  8.3990e-02, -1.3669e-02,\n",
       "           5.4820e-03,  6.0364e-02,  9.3874e-02, -6.7359e-02,  4.7480e-02,\n",
       "          -9.8695e-02,  8.7399e-02,  3.6421e-02, -3.2557e-03, -1.5963e-02,\n",
       "           6.3192e-02, -2.7559e-02, -9.9252e-02,  8.3691e-02, -7.0389e-02,\n",
       "           4.6904e-02,  6.0595e-02, -2.6803e-03,  2.0963e-02, -9.4207e-02,\n",
       "           1.2948e-02,  3.7694e-02,  2.7387e-02, -4.1674e-02,  6.7021e-02,\n",
       "           7.6018e-02, -1.7969e-02,  2.3619e-02,  6.2404e-02,  6.5669e-02,\n",
       "          -5.0798e-02, -9.6557e-02,  3.5823e-03, -7.1157e-02, -5.4895e-02,\n",
       "           9.7966e-02,  4.4176e-02, -1.5441e-02, -7.8072e-02, -4.6466e-02,\n",
       "          -3.7875e-02, -4.8475e-02,  1.1109e-02,  6.7915e-03, -6.6044e-02,\n",
       "          -2.4674e-02,  8.4213e-02,  9.3686e-02,  1.9724e-02, -9.2310e-02,\n",
       "          -8.2192e-02,  5.3786e-02,  3.5942e-02, -3.3526e-03, -4.0474e-02,\n",
       "           2.2702e-02,  8.8977e-02,  3.4848e-02, -4.7851e-02, -9.2732e-02],\n",
       "         [-5.0693e-02, -9.7796e-02, -9.8425e-03, -9.7044e-02, -9.0864e-02,\n",
       "           8.6992e-02,  1.1244e-02,  6.3680e-02, -3.3688e-02,  7.5774e-02,\n",
       "           6.6641e-02, -8.9169e-02,  1.8877e-02,  8.5514e-02,  9.9606e-02,\n",
       "           6.7834e-02, -1.4503e-02,  2.6596e-03, -1.2118e-02,  2.0831e-02,\n",
       "          -2.5675e-02, -5.1157e-03, -5.2589e-02, -7.8643e-02, -5.5478e-02,\n",
       "          -6.9718e-02, -6.7919e-02,  2.9957e-02, -4.1204e-03, -8.8656e-02,\n",
       "           7.2177e-02,  3.5975e-02, -1.5291e-02, -1.4621e-02,  9.8207e-02,\n",
       "          -4.0012e-03,  8.0581e-02, -1.6370e-02, -5.5156e-02,  7.0298e-03,\n",
       "          -7.5191e-02,  7.1058e-02,  5.0465e-02, -7.4847e-03,  9.1898e-02,\n",
       "           5.3462e-02,  5.0591e-02,  6.2118e-04, -4.9364e-02,  9.1224e-02,\n",
       "           6.5596e-02,  5.4461e-02, -4.3358e-02, -7.8723e-02, -1.2638e-02,\n",
       "          -7.8079e-02, -5.1271e-02, -6.8671e-02, -3.1877e-02,  7.6807e-02,\n",
       "           8.2348e-02,  6.0378e-02,  2.7598e-02, -5.0798e-02, -7.8120e-02,\n",
       "           7.1407e-02,  1.8459e-02, -7.0576e-02,  7.0062e-02, -3.1455e-02,\n",
       "           3.6755e-02,  6.5626e-02,  9.7941e-02, -6.9947e-02, -6.6844e-02,\n",
       "          -2.5414e-02, -9.4953e-02,  9.4068e-02,  2.9171e-02, -5.5057e-02,\n",
       "          -8.0940e-02, -8.3985e-02,  6.4507e-02,  1.3120e-02,  8.0265e-02,\n",
       "          -3.5297e-02,  6.8343e-02, -7.4008e-03,  2.8769e-02,  6.8277e-02,\n",
       "           9.1202e-02, -7.7743e-02,  2.8946e-02,  4.8542e-02,  5.8742e-02,\n",
       "          -8.2279e-02,  8.7811e-02,  4.2779e-02, -5.4114e-02,  5.3800e-02],\n",
       "         [ 1.4894e-02, -2.0855e-02, -2.6086e-03, -7.9238e-02, -1.6312e-02,\n",
       "           5.3188e-02, -1.5316e-02,  6.2044e-02, -2.4953e-02, -5.1776e-02,\n",
       "           7.5052e-02,  7.2013e-02,  8.2362e-03,  6.8302e-02,  3.0127e-02,\n",
       "           6.9687e-02, -7.8391e-02, -6.0319e-03,  3.0165e-02,  8.9965e-02,\n",
       "           6.0505e-02, -4.9803e-02, -3.6506e-02, -1.2434e-02, -8.3406e-02,\n",
       "           6.9023e-03,  1.4254e-02,  7.6596e-02, -1.4237e-02, -3.6902e-02,\n",
       "           2.7949e-02,  7.5483e-02, -4.0588e-02, -5.9385e-02,  8.9793e-02,\n",
       "           7.4397e-02,  9.5199e-02,  7.5278e-03, -9.8153e-02,  2.9016e-02,\n",
       "           6.8356e-02, -1.9453e-02, -1.8226e-02, -8.8239e-02, -2.1214e-02,\n",
       "          -9.7905e-02, -9.2085e-03, -8.1535e-02,  3.6889e-03,  6.3869e-02,\n",
       "           9.1588e-03, -9.2022e-03, -6.8385e-02,  4.2986e-02,  9.2200e-02,\n",
       "          -5.4980e-02,  5.3605e-02, -4.9958e-02, -9.2965e-02,  4.3057e-02,\n",
       "          -4.5983e-02, -9.1850e-02, -2.9645e-02,  2.9746e-02,  2.3277e-02,\n",
       "          -4.9117e-03,  3.9850e-02, -5.6736e-02, -9.0869e-02, -7.7976e-02,\n",
       "          -9.9152e-02, -1.7929e-02, -2.1060e-02,  4.4841e-02,  2.4253e-02,\n",
       "           1.8790e-02,  8.1689e-02,  3.7685e-02, -6.0694e-02, -5.8687e-02,\n",
       "           1.9512e-02,  5.2509e-02,  4.5770e-02,  6.5798e-02, -7.2968e-02,\n",
       "           5.4488e-02, -7.3471e-02,  5.7518e-02,  1.6609e-02, -4.9179e-02,\n",
       "           7.2873e-02,  5.0158e-02,  1.1712e-02,  7.6988e-02, -9.0329e-02,\n",
       "          -3.3609e-02,  3.7338e-02, -1.3255e-02, -7.7463e-02, -4.3321e-02],\n",
       "         [ 2.9891e-02,  2.3608e-02,  7.1174e-02, -4.4375e-02, -1.9196e-02,\n",
       "          -4.7310e-02,  9.7766e-02, -1.5732e-02,  7.0571e-02, -3.1749e-02,\n",
       "           9.9615e-02, -6.8640e-02,  5.3091e-02, -8.6105e-02,  8.3957e-03,\n",
       "           3.8692e-02, -8.4003e-02, -2.3862e-03, -5.5519e-02,  5.8032e-02,\n",
       "          -8.7601e-02, -8.9372e-02, -4.7034e-02, -7.2907e-02,  4.5976e-02,\n",
       "          -1.1373e-02,  1.9527e-02, -7.6545e-02,  1.9267e-03,  6.8950e-02,\n",
       "          -5.2314e-02, -6.2963e-02,  8.0749e-02,  1.2414e-02, -2.8544e-02,\n",
       "           5.2782e-02,  5.1014e-02, -4.1050e-02,  1.7498e-02,  7.2974e-02,\n",
       "          -7.0411e-02,  3.7855e-02,  5.7590e-03, -3.9714e-02, -1.3133e-02,\n",
       "           8.9081e-02,  7.6762e-02, -1.8439e-02, -7.1522e-02, -4.2785e-02,\n",
       "           4.6248e-02, -4.5350e-02, -8.6152e-02, -8.9697e-02, -7.9054e-02,\n",
       "           4.2516e-02, -5.0098e-02,  2.3855e-02,  2.5969e-02,  4.1002e-02,\n",
       "           3.2287e-02,  8.4305e-02,  3.8515e-02, -6.6696e-02,  6.8211e-02,\n",
       "          -6.7632e-02, -3.3294e-02, -6.1728e-02,  6.7410e-04,  1.5036e-02,\n",
       "           4.6872e-02, -1.1190e-02,  8.1350e-02,  6.1644e-02, -5.9729e-02,\n",
       "           1.9995e-02,  8.7558e-02,  5.6140e-02,  1.1394e-02, -8.4649e-02,\n",
       "          -6.5212e-04, -2.4459e-03,  2.5006e-02, -2.1732e-02,  8.1827e-02,\n",
       "          -1.7188e-02,  6.0177e-02, -1.9936e-02,  8.3507e-03,  2.7792e-02,\n",
       "          -5.2144e-02,  5.6368e-02, -9.4891e-02, -9.9602e-02,  7.6490e-02,\n",
       "          -4.5360e-02, -5.5864e-02, -6.5160e-02,  1.4757e-02,  4.7722e-02],\n",
       "         [-4.6883e-03, -5.0829e-03,  2.8998e-02, -3.7421e-02,  1.6690e-02,\n",
       "          -6.6321e-02, -8.4278e-02, -9.0842e-02,  1.8035e-03, -1.3765e-02,\n",
       "          -6.0068e-02,  5.7035e-02, -8.4101e-02,  8.3995e-03,  3.4000e-02,\n",
       "           4.1612e-02,  2.6582e-02, -6.0163e-02,  2.8491e-06,  3.2145e-02,\n",
       "           9.1400e-02, -9.9124e-02,  2.9844e-02, -4.7145e-02,  3.1049e-02,\n",
       "          -6.8501e-02,  4.9630e-02,  7.2670e-02,  5.0070e-02, -8.3322e-02,\n",
       "           5.8992e-02, -3.5423e-02, -1.9312e-02, -9.3541e-02,  2.4316e-02,\n",
       "          -1.4647e-02,  4.1075e-02, -6.7202e-02, -8.2838e-02,  4.3735e-02,\n",
       "           2.2509e-02, -5.6975e-02,  2.6417e-02, -5.4388e-03,  7.9312e-03,\n",
       "          -4.6778e-02, -6.2519e-02,  2.3464e-02, -8.0289e-02,  9.3955e-03,\n",
       "           8.8457e-03,  1.0532e-02, -4.5523e-02, -5.0009e-02,  2.9878e-02,\n",
       "           3.0638e-02, -6.3646e-02, -3.8929e-02, -3.9988e-02, -2.0631e-02,\n",
       "           1.8155e-02, -8.1911e-02,  4.8457e-02, -7.3566e-03, -3.4496e-02,\n",
       "           7.9767e-02, -8.4799e-02,  7.0706e-02,  5.9044e-03, -4.1211e-02,\n",
       "          -1.9812e-02,  3.5246e-02,  7.6340e-02,  1.3026e-02, -7.7416e-02,\n",
       "          -3.4846e-02, -7.6020e-02,  6.9527e-02,  4.1521e-02, -5.5653e-02,\n",
       "           5.8759e-02,  2.4076e-02, -7.1083e-02, -8.9783e-02,  3.8788e-02,\n",
       "           7.1299e-02, -7.7425e-02, -4.8908e-02,  6.9342e-02, -2.9228e-02,\n",
       "          -4.3628e-02, -3.9538e-02, -9.6806e-02, -4.1026e-02,  9.0913e-02,\n",
       "           6.0362e-02,  6.4882e-02,  6.7317e-02,  6.3676e-02, -6.3219e-02],\n",
       "         [ 4.8103e-02, -2.9381e-02, -4.3251e-02, -3.4904e-04, -6.3245e-02,\n",
       "           4.5097e-02, -6.0367e-02, -5.4682e-02, -5.6590e-02, -7.9996e-02,\n",
       "           2.5836e-02,  1.3732e-03,  2.3147e-02,  8.5808e-02,  6.4188e-02,\n",
       "          -7.7021e-02, -3.9718e-02,  1.7891e-02, -2.2178e-02, -5.3464e-02,\n",
       "           6.8334e-03, -2.0412e-03,  7.7641e-02, -4.3234e-02,  6.3211e-02,\n",
       "          -6.9891e-02,  2.3025e-02,  5.5025e-02, -2.6820e-02, -8.8763e-02,\n",
       "           9.5124e-02,  1.3101e-02, -1.9134e-03,  1.5864e-03, -2.3236e-03,\n",
       "          -7.8115e-02, -5.7255e-02, -3.2925e-02,  8.0286e-02,  1.2098e-02,\n",
       "           8.7148e-02,  5.5013e-02, -8.4343e-02, -8.9652e-03, -7.2338e-02,\n",
       "           4.9904e-02, -2.5360e-02, -8.7991e-02,  2.2476e-02,  7.6252e-02,\n",
       "           8.7799e-02, -9.2633e-02, -3.8663e-02, -1.6784e-02, -7.0956e-03,\n",
       "           1.9888e-02, -7.7200e-02,  5.0058e-02, -8.1803e-02, -9.4029e-02,\n",
       "           4.4488e-02, -4.7516e-02, -9.6553e-02, -5.0458e-03, -1.8110e-02,\n",
       "           6.0502e-02,  6.9039e-03, -3.6722e-02,  5.6968e-02,  7.5791e-02,\n",
       "          -3.7647e-02, -2.1809e-02, -6.4827e-02,  2.0143e-02,  2.1848e-02,\n",
       "          -6.4912e-02, -2.5731e-02,  7.9363e-02, -6.9618e-02,  2.0601e-03,\n",
       "          -2.5896e-02, -5.9718e-02,  5.0580e-02, -3.9547e-02,  4.3459e-02,\n",
       "          -1.6943e-02, -6.6596e-02,  3.0289e-02, -5.4358e-04, -5.8533e-03,\n",
       "          -8.8368e-02, -7.8341e-02,  7.0036e-02, -9.4943e-02, -7.7635e-02,\n",
       "          -9.1182e-02, -7.0446e-02, -7.9374e-02,  3.0268e-02, -7.0125e-03],\n",
       "         [-6.3280e-02,  9.8055e-02, -2.2250e-02,  3.2423e-02, -8.4750e-02,\n",
       "          -9.0001e-03, -7.8942e-03, -2.1254e-02,  2.2285e-02,  6.1334e-02,\n",
       "          -9.5398e-02,  8.2887e-02, -1.2126e-02, -5.7446e-02,  3.1597e-02,\n",
       "           5.7657e-02,  6.8307e-02, -7.5277e-02, -6.4251e-02,  7.8392e-02,\n",
       "          -4.8596e-02, -1.8795e-02,  3.7086e-02, -6.2171e-02, -9.2829e-02,\n",
       "          -1.8470e-02,  7.8292e-02, -8.8261e-02,  6.8328e-02, -2.2545e-02,\n",
       "           3.0245e-02, -3.1461e-02, -5.6413e-02, -5.9091e-02, -1.7481e-02,\n",
       "          -8.9667e-02, -3.2607e-02,  4.1387e-02, -4.7248e-02,  7.7448e-02,\n",
       "          -6.0221e-02,  5.0878e-02,  1.0057e-02,  9.3654e-02,  9.5339e-02,\n",
       "           9.4672e-02,  2.0484e-03, -5.6261e-03,  8.8395e-02,  9.1078e-02,\n",
       "          -2.3930e-02, -6.2643e-02,  3.9402e-02, -1.0115e-02,  9.1275e-02,\n",
       "          -8.8287e-03, -3.6216e-02,  3.8962e-02,  7.1016e-02, -5.2177e-02,\n",
       "          -1.2614e-02,  8.7077e-02, -6.1484e-02,  1.6976e-02, -8.3320e-02,\n",
       "          -6.8988e-02, -9.1788e-02,  4.5241e-03, -5.9498e-02,  6.4232e-02,\n",
       "           6.8898e-02,  6.1066e-02,  7.9330e-02, -2.3615e-03,  8.4525e-02,\n",
       "           5.2796e-02,  4.1723e-02, -4.9237e-02, -3.0559e-02,  2.2415e-02,\n",
       "          -3.2506e-02, -7.6604e-02,  4.1349e-02, -3.3173e-02, -7.5618e-02,\n",
       "          -2.3580e-02, -9.0420e-02,  1.7381e-02,  2.3214e-02,  4.9659e-02,\n",
       "           8.7299e-02,  3.9785e-02, -8.7427e-02, -7.4222e-02, -3.4129e-02,\n",
       "          -3.8118e-02,  2.2619e-02,  1.1421e-02, -9.5604e-02, -4.2744e-02],\n",
       "         [ 9.8946e-02,  8.0726e-02, -1.0677e-02,  5.2133e-02, -3.9292e-02,\n",
       "           2.5786e-02, -7.2234e-02,  4.4435e-02, -1.0597e-02, -8.5775e-02,\n",
       "           6.1266e-02, -2.8107e-02, -3.2571e-02,  5.3431e-02, -4.6116e-02,\n",
       "          -1.5609e-03, -3.5014e-02,  9.4228e-02,  6.0290e-02, -9.2951e-02,\n",
       "           7.9717e-02, -1.1471e-02, -8.3647e-02, -4.2162e-02,  3.5718e-02,\n",
       "          -7.9761e-02, -5.9385e-02, -9.3297e-02,  1.8741e-02,  1.0571e-02,\n",
       "           1.7881e-02, -4.3649e-02,  1.0661e-02,  4.7776e-02,  9.7221e-02,\n",
       "           8.5038e-02, -6.4854e-02, -1.5105e-02, -5.0719e-02,  9.6490e-02,\n",
       "          -2.1217e-02, -4.8442e-02,  1.8512e-02, -6.6281e-02,  3.6238e-02,\n",
       "          -6.0828e-02,  8.6588e-03, -6.8059e-02,  7.0081e-02,  5.0320e-03,\n",
       "           1.0259e-02, -4.2860e-02,  4.0908e-02, -9.6888e-02,  9.0970e-02,\n",
       "          -7.8699e-02, -6.7913e-02,  2.8119e-02, -9.5590e-02,  9.1382e-02,\n",
       "          -2.2703e-02,  8.1190e-02,  3.2159e-02,  8.3450e-02,  9.4205e-04,\n",
       "           2.6492e-02, -2.5525e-04,  8.7279e-02,  3.3465e-02,  5.7797e-02,\n",
       "          -9.5362e-02,  2.0778e-02, -5.1050e-02,  9.7567e-02, -8.4859e-02,\n",
       "          -2.4367e-02, -4.9763e-02, -3.2535e-02,  4.9815e-02, -7.3330e-02,\n",
       "           1.7600e-02,  4.2178e-03,  8.3401e-02, -9.5615e-02, -9.6788e-02,\n",
       "           4.4755e-02,  1.0948e-02, -7.2429e-02,  9.2741e-03,  4.0044e-02,\n",
       "           5.9955e-02,  5.3640e-02, -2.7107e-02, -5.3846e-02,  9.9463e-02,\n",
       "           7.3717e-02,  3.6214e-02, -9.0989e-02,  6.3096e-02,  1.6313e-02],\n",
       "         [ 4.5934e-02, -2.3572e-02,  7.5541e-02, -2.5904e-02, -3.3427e-02,\n",
       "          -8.0316e-02,  5.0269e-03,  6.5302e-03, -4.2044e-02, -7.5832e-02,\n",
       "          -9.2010e-02, -9.8022e-02,  3.9815e-02, -9.8408e-02, -8.2738e-02,\n",
       "          -6.3802e-02,  2.5354e-02,  2.0585e-02,  4.4527e-02,  2.0778e-02,\n",
       "          -5.4812e-02,  5.8176e-02,  6.9492e-02,  4.4153e-02,  4.3477e-03,\n",
       "          -8.8978e-02, -7.7399e-02, -1.6749e-02,  5.9498e-02, -4.3409e-02,\n",
       "          -7.2048e-03, -4.0163e-02, -4.0748e-02,  1.7047e-02, -2.8048e-02,\n",
       "           4.2178e-02,  3.5424e-02,  7.1511e-02, -2.0590e-03, -3.5701e-02,\n",
       "          -3.1437e-02,  5.2745e-02,  6.3140e-02,  5.2239e-03,  3.0013e-02,\n",
       "           1.3778e-02,  3.7316e-02,  4.3617e-02, -4.6235e-02,  2.2003e-02,\n",
       "           7.1961e-02,  1.0030e-02, -9.0891e-02,  5.8596e-02,  6.8908e-02,\n",
       "           5.7108e-02, -5.3837e-02, -6.4078e-02, -7.5696e-02,  1.4759e-02,\n",
       "           9.7620e-02, -7.9995e-02,  1.7856e-02,  5.1109e-02,  2.0104e-02,\n",
       "           7.8213e-02, -9.9588e-02,  5.4814e-02,  5.7341e-02,  3.3517e-02,\n",
       "           9.6037e-02, -9.1066e-02, -5.2438e-02, -2.9083e-02,  2.4890e-02,\n",
       "          -7.8177e-02, -9.6422e-02,  1.7588e-03, -7.8048e-04,  5.9119e-02,\n",
       "           1.7640e-02, -4.0430e-03,  2.6382e-02, -6.5229e-02,  2.2241e-02,\n",
       "           2.5114e-02, -9.4427e-02, -9.5167e-02,  8.6592e-02,  7.6234e-03,\n",
       "           6.4902e-02,  8.2649e-03,  5.8791e-02, -4.7453e-02,  9.8720e-02,\n",
       "           9.0890e-02,  7.7507e-02, -6.0255e-02, -7.5027e-02,  2.5685e-02],\n",
       "         [-6.5192e-02,  1.8064e-02,  2.1017e-02, -8.9665e-02, -3.8949e-02,\n",
       "           7.5506e-02,  9.4137e-04, -5.5186e-02,  8.6985e-02,  4.7989e-02,\n",
       "           5.6377e-02, -4.3148e-02,  2.9614e-02, -6.9585e-02, -2.4431e-02,\n",
       "           2.5227e-02, -9.8694e-02,  6.1868e-03, -7.9960e-02,  6.0575e-02,\n",
       "          -4.0175e-02,  6.1188e-02, -1.1094e-02,  9.5968e-02,  7.6821e-02,\n",
       "           1.4163e-03,  3.4941e-02, -5.4797e-02,  6.9927e-02, -1.5714e-02,\n",
       "          -1.4590e-02,  1.7621e-02, -7.2746e-02, -3.5769e-02,  3.6155e-02,\n",
       "           3.7000e-02,  9.4231e-02, -3.4575e-02,  8.2479e-02,  8.7401e-02,\n",
       "           6.1424e-02,  1.8461e-02, -4.0479e-02, -6.7094e-02, -4.8833e-02,\n",
       "          -2.4352e-02,  6.8992e-02, -2.5191e-02, -9.5609e-02,  7.5696e-02,\n",
       "          -8.2776e-02, -4.5833e-02,  7.3431e-02, -5.1832e-02, -8.4155e-03,\n",
       "          -7.8895e-02, -2.5658e-02,  9.2480e-02, -1.8527e-02, -8.9800e-02,\n",
       "           5.6553e-02,  2.2715e-02,  1.4707e-02, -2.4362e-02, -5.3191e-02,\n",
       "           2.2109e-02,  6.6985e-02, -7.5265e-02,  4.0947e-02,  2.5224e-02,\n",
       "           2.0701e-02,  4.8374e-02,  9.5340e-02,  2.0902e-02,  1.0644e-02,\n",
       "           1.9579e-02, -5.3485e-03,  4.0427e-02,  9.3501e-02,  6.9786e-02,\n",
       "          -4.1035e-02, -4.9396e-02,  6.7912e-02,  1.4400e-03,  4.2272e-02,\n",
       "          -1.4787e-02, -8.4440e-02, -2.9326e-02, -9.2315e-02,  8.7285e-02,\n",
       "           2.0294e-02, -2.0681e-02, -2.4221e-03,  5.5434e-02,  8.3844e-02,\n",
       "           1.4293e-02,  1.2170e-02,  2.9837e-02, -4.2896e-02,  9.4809e-02]],\n",
       "        device='cuda:0', requires_grad=True),\n",
       " Parameter containing:\n",
       " tensor([-0.0112, -0.0392, -0.0830,  0.0364, -0.0148, -0.0469,  0.0880, -0.0671,\n",
       "          0.0270, -0.0995], device='cuda:0', requires_grad=True)]"
      ]
     },
     "execution_count": 44,
     "metadata": {},
     "output_type": "execute_result"
    }
   ],
   "source": [
    "device = torch.device('cuda:0' if torch.cuda.is_available() else 'cpu')\n",
    "mnist_net = mnist_net.to(device)\n",
    "list(mnist_net.parameters())"
   ]
  },
  {
   "cell_type": "code",
   "execution_count": 45,
   "metadata": {
    "colab": {},
    "colab_type": "code",
    "id": "00_2j2igpS3o"
   },
   "outputs": [],
   "source": [
    "loss = torch.nn.CrossEntropyLoss()\n",
    "optimizer = torch.optim.Adam(mnist_net.parameters(), lr=1.0e-3)"
   ]
  },
  {
   "cell_type": "code",
   "execution_count": 46,
   "metadata": {
    "colab": {},
    "colab_type": "code",
    "id": "wZtqiGvfpS3r"
   },
   "outputs": [
    {
     "name": "stdout",
     "output_type": "stream",
     "text": [
      "0.8973000049591064\n",
      "0.9068999886512756\n",
      "0.9092999696731567\n",
      "0.9159999489784241\n",
      "0.923799991607666\n",
      "0.9178999662399292\n",
      "0.9279999732971191\n",
      "0.9213999509811401\n",
      "0.9291999936103821\n",
      "0.9336999654769897\n",
      "0.9334999918937683\n",
      "0.9325000047683716\n",
      "0.9316999912261963\n",
      "0.9383999705314636\n",
      "0.935699999332428\n",
      "0.9390999674797058\n",
      "0.9422999620437622\n",
      "0.9395999908447266\n",
      "0.9404999613761902\n",
      "0.9447000026702881\n",
      "0.9432999491691589\n",
      "0.9440000057220459\n",
      "0.9417999982833862\n",
      "0.942799985408783\n",
      "0.9430999755859375\n",
      "0.9466999769210815\n",
      "0.9465000033378601\n",
      "0.9425999522209167\n",
      "0.9432999491691589\n",
      "0.9470999836921692\n",
      "0.9456999897956848\n",
      "0.9490000009536743\n",
      "0.9513999819755554\n",
      "0.9497999548912048\n",
      "0.95169997215271\n",
      "0.9515999555587769\n",
      "0.9501999616622925\n",
      "0.950499951839447\n",
      "0.9515999555587769\n",
      "0.9512999653816223\n",
      "0.9517999887466431\n",
      "0.9557999968528748\n",
      "0.9511999487876892\n",
      "0.9560999870300293\n",
      "0.9541999697685242\n",
      "0.9535999894142151\n",
      "0.9556999802589417\n",
      "0.9544999599456787\n",
      "0.9562999606132507\n",
      "0.9533999562263489\n",
      "0.953499972820282\n",
      "0.9544000029563904\n",
      "0.9536999464035034\n",
      "0.9578999876976013\n",
      "0.957099974155426\n",
      "0.9542999863624573\n",
      "0.9560999870300293\n",
      "0.958299994468689\n",
      "0.9593999981880188\n",
      "0.9595999717712402\n",
      "0.9602999687194824\n",
      "0.9585999846458435\n",
      "0.9602999687194824\n",
      "0.9596999883651733\n",
      "0.9598000049591064\n",
      "0.9593999981880188\n",
      "0.9599999785423279\n",
      "0.9598999619483948\n",
      "0.9590999484062195\n",
      "0.9574999809265137\n",
      "0.9603999853134155\n",
      "0.9583999514579773\n",
      "0.9595999717712402\n",
      "0.9563999772071838\n",
      "0.9581999778747559\n",
      "0.9580999612808228\n",
      "0.9611999988555908\n",
      "0.9611999988555908\n",
      "0.9608999490737915\n",
      "0.9610999822616577\n",
      "0.9594999551773071\n",
      "0.9643999934196472\n",
      "0.9632999897003174\n",
      "0.9624999761581421\n",
      "0.9630999565124512\n",
      "0.9620999693870544\n",
      "0.9639999866485596\n",
      "0.9598999619483948\n",
      "0.9589999914169312\n",
      "0.960099995136261\n",
      "0.9620999693870544\n",
      "0.9624999761581421\n",
      "0.9629999995231628\n",
      "0.9620999693870544\n",
      "0.9659000039100647\n",
      "0.9643999934196472\n",
      "0.9626999497413635\n",
      "0.9610999822616577\n",
      "0.9619999527931213\n",
      "0.961899995803833\n",
      "0.9623000025749207\n",
      "0.9607999920845032\n",
      "0.9630999565124512\n",
      "0.9632999897003174\n",
      "0.963699996471405\n",
      "0.9621999859809875\n",
      "0.9626999497413635\n",
      "0.9630999565124512\n",
      "0.9632999897003174\n",
      "0.9602999687194824\n",
      "0.9656999707221985\n",
      "0.9641000032424927\n",
      "0.9666999578475952\n",
      "0.9642999768257141\n",
      "0.9635999798774719\n",
      "0.9619999527931213\n",
      "0.9605000019073486\n",
      "0.9615999460220337\n",
      "0.9638999700546265\n",
      "0.9601999521255493\n",
      "0.9643999934196472\n",
      "0.9639999866485596\n",
      "0.9644999504089355\n",
      "0.9632999897003174\n",
      "0.9632999897003174\n",
      "0.9649999737739563\n",
      "0.9624999761581421\n",
      "0.9635999798774719\n",
      "0.9650999903678894\n",
      "0.9632999897003174\n",
      "0.963699996471405\n",
      "0.9651999473571777\n",
      "0.9669999480247498\n",
      "0.9655999541282654\n",
      "0.9668999910354614\n",
      "0.967199981212616\n",
      "0.9664999842643738\n",
      "0.965399980545044\n",
      "0.9678999781608582\n",
      "0.9664999842643738\n",
      "0.9661999940872192\n",
      "0.9659000039100647\n",
      "0.9612999558448792\n",
      "0.9667999744415283\n"
     ]
    },
    {
     "ename": "RuntimeError",
     "evalue": "CUDA out of memory. Tried to allocate 20.00 MiB (GPU 0; 1.96 GiB total capacity; 1.27 GiB already allocated; 8.75 MiB free; 1.28 GiB reserved in total by PyTorch)",
     "output_type": "error",
     "traceback": [
      "\u001b[0;31m---------------------------------------------------------------------------\u001b[0m",
      "\u001b[0;31mRuntimeError\u001b[0m                              Traceback (most recent call last)",
      "\u001b[1;32m/home/dendav/projects/Computer_vision_course_stepik/4_module/module04_mnist_fc.ipynb Cell 15'\u001b[0m in \u001b[0;36m<cell line: 9>\u001b[0;34m()\u001b[0m\n\u001b[1;32m     <a href='vscode-notebook-cell:/home/dendav/projects/Computer_vision_course_stepik/4_module/module04_mnist_fc.ipynb#ch0000014?line=22'>23</a>\u001b[0m     loss_value\u001b[39m.\u001b[39mbackward()\n\u001b[1;32m     <a href='vscode-notebook-cell:/home/dendav/projects/Computer_vision_course_stepik/4_module/module04_mnist_fc.ipynb#ch0000014?line=24'>25</a>\u001b[0m     optimizer\u001b[39m.\u001b[39mstep()\n\u001b[0;32m---> <a href='vscode-notebook-cell:/home/dendav/projects/Computer_vision_course_stepik/4_module/module04_mnist_fc.ipynb#ch0000014?line=26'>27</a>\u001b[0m test_preds \u001b[39m=\u001b[39m mnist_net\u001b[39m.\u001b[39;49mforward(X_test)\n\u001b[1;32m     <a href='vscode-notebook-cell:/home/dendav/projects/Computer_vision_course_stepik/4_module/module04_mnist_fc.ipynb#ch0000014?line=27'>28</a>\u001b[0m test_loss_history\u001b[39m.\u001b[39mappend(loss(test_preds, y_test))\n\u001b[1;32m     <a href='vscode-notebook-cell:/home/dendav/projects/Computer_vision_course_stepik/4_module/module04_mnist_fc.ipynb#ch0000014?line=29'>30</a>\u001b[0m accuracy \u001b[39m=\u001b[39m \u001b[39mfloat\u001b[39m((test_preds\u001b[39m.\u001b[39margmax(dim\u001b[39m=\u001b[39m\u001b[39m1\u001b[39m) \u001b[39m==\u001b[39m y_test)\u001b[39m.\u001b[39mfloat()\u001b[39m.\u001b[39mmean())\n",
      "\u001b[1;32m/home/dendav/projects/Computer_vision_course_stepik/4_module/module04_mnist_fc.ipynb Cell 10'\u001b[0m in \u001b[0;36mMNISTNet.forward\u001b[0;34m(self, x)\u001b[0m\n\u001b[1;32m     <a href='vscode-notebook-cell:/home/dendav/projects/Computer_vision_course_stepik/4_module/module04_mnist_fc.ipynb#ch0000009?line=12'>13</a>\u001b[0m x \u001b[39m=\u001b[39m \u001b[39mself\u001b[39m\u001b[39m.\u001b[39mac1(x)\n\u001b[1;32m     <a href='vscode-notebook-cell:/home/dendav/projects/Computer_vision_course_stepik/4_module/module04_mnist_fc.ipynb#ch0000009?line=13'>14</a>\u001b[0m x \u001b[39m=\u001b[39m \u001b[39mself\u001b[39m\u001b[39m.\u001b[39mfc2(x)\n\u001b[0;32m---> <a href='vscode-notebook-cell:/home/dendav/projects/Computer_vision_course_stepik/4_module/module04_mnist_fc.ipynb#ch0000009?line=14'>15</a>\u001b[0m x \u001b[39m=\u001b[39m \u001b[39mself\u001b[39;49m\u001b[39m.\u001b[39;49mac2(x)\n\u001b[1;32m     <a href='vscode-notebook-cell:/home/dendav/projects/Computer_vision_course_stepik/4_module/module04_mnist_fc.ipynb#ch0000009?line=15'>16</a>\u001b[0m x \u001b[39m=\u001b[39m \u001b[39mself\u001b[39m\u001b[39m.\u001b[39mfc3(x)\n\u001b[1;32m     <a href='vscode-notebook-cell:/home/dendav/projects/Computer_vision_course_stepik/4_module/module04_mnist_fc.ipynb#ch0000009?line=17'>18</a>\u001b[0m \u001b[39mreturn\u001b[39;00m x\n",
      "File \u001b[0;32m~/.local/lib/python3.8/site-packages/torch/nn/modules/module.py:1051\u001b[0m, in \u001b[0;36mModule._call_impl\u001b[0;34m(self, *input, **kwargs)\u001b[0m\n\u001b[1;32m   1047\u001b[0m \u001b[39m# If we don't have any hooks, we want to skip the rest of the logic in\u001b[39;00m\n\u001b[1;32m   1048\u001b[0m \u001b[39m# this function, and just call forward.\u001b[39;00m\n\u001b[1;32m   1049\u001b[0m \u001b[39mif\u001b[39;00m \u001b[39mnot\u001b[39;00m (\u001b[39mself\u001b[39m\u001b[39m.\u001b[39m_backward_hooks \u001b[39mor\u001b[39;00m \u001b[39mself\u001b[39m\u001b[39m.\u001b[39m_forward_hooks \u001b[39mor\u001b[39;00m \u001b[39mself\u001b[39m\u001b[39m.\u001b[39m_forward_pre_hooks \u001b[39mor\u001b[39;00m _global_backward_hooks\n\u001b[1;32m   1050\u001b[0m         \u001b[39mor\u001b[39;00m _global_forward_hooks \u001b[39mor\u001b[39;00m _global_forward_pre_hooks):\n\u001b[0;32m-> 1051\u001b[0m     \u001b[39mreturn\u001b[39;00m forward_call(\u001b[39m*\u001b[39;49m\u001b[39minput\u001b[39;49m, \u001b[39m*\u001b[39;49m\u001b[39m*\u001b[39;49mkwargs)\n\u001b[1;32m   1052\u001b[0m \u001b[39m# Do not call functions when jit is used\u001b[39;00m\n\u001b[1;32m   1053\u001b[0m full_backward_hooks, non_full_backward_hooks \u001b[39m=\u001b[39m [], []\n",
      "File \u001b[0;32m~/.local/lib/python3.8/site-packages/torch/nn/modules/activation.py:299\u001b[0m, in \u001b[0;36mSigmoid.forward\u001b[0;34m(self, input)\u001b[0m\n\u001b[1;32m    298\u001b[0m \u001b[39mdef\u001b[39;00m \u001b[39mforward\u001b[39m(\u001b[39mself\u001b[39m, \u001b[39minput\u001b[39m: Tensor) \u001b[39m-\u001b[39m\u001b[39m>\u001b[39m Tensor:\n\u001b[0;32m--> 299\u001b[0m     \u001b[39mreturn\u001b[39;00m torch\u001b[39m.\u001b[39;49msigmoid(\u001b[39minput\u001b[39;49m)\n",
      "\u001b[0;31mRuntimeError\u001b[0m: CUDA out of memory. Tried to allocate 20.00 MiB (GPU 0; 1.96 GiB total capacity; 1.27 GiB already allocated; 8.75 MiB free; 1.28 GiB reserved in total by PyTorch)"
     ]
    }
   ],
   "source": [
    "batch_size = 100\n",
    "\n",
    "test_accuracy_history = []\n",
    "test_loss_history = []\n",
    "\n",
    "X_test = X_test.to(device)\n",
    "y_test = y_test.to(device)\n",
    "\n",
    "for epoch in range(10000):\n",
    "    order = np.random.permutation(len(X_train))\n",
    "    \n",
    "    for start_index in range(0, len(X_train), batch_size):\n",
    "        optimizer.zero_grad()\n",
    "        \n",
    "        batch_indexes = order[start_index:start_index+batch_size]\n",
    "        \n",
    "        X_batch = X_train[batch_indexes] .to(device)\n",
    "        y_batch = y_train[batch_indexes] .to(device)\n",
    "        \n",
    "        preds = mnist_net.forward(X_batch) \n",
    "        \n",
    "        loss_value = loss(preds, y_batch)\n",
    "        loss_value.backward()\n",
    "        \n",
    "        optimizer.step()\n",
    "\n",
    "    test_preds = mnist_net.forward(X_test)\n",
    "    test_loss_history.append(loss(test_preds, y_test))\n",
    "    \n",
    "    accuracy = float((test_preds.argmax(dim=1) == y_test).float().mean())\n",
    "    test_accuracy_history.append(accuracy)\n",
    "    print(accuracy)"
   ]
  },
  {
   "cell_type": "code",
   "execution_count": 51,
   "metadata": {
    "colab": {},
    "colab_type": "code",
    "id": "kLnumX3SpS3u"
   },
   "outputs": [
    {
     "data": {
      "image/png": "[encoded data removed]",
      "text/plain": [
       "<Figure size 1152x360 with 2 Axes>"
      ]
     },
     "metadata": {
      "needs_background": "light"
     },
     "output_type": "display_data"
    }
   ],
   "source": [
    "fig, ax = plt.subplots( 1,2, figsize=(16,5) )\n",
    "\n",
    "ax[0].plot(list(map(float, test_accuracy_history)))\n",
    "ax[1].plot(list(map(float, test_loss_history)));"
   ]
  },
  {
   "cell_type": "code",
   "execution_count": 34,
   "metadata": {},
   "outputs": [
    {
     "name": "stdout",
     "output_type": "stream",
     "text": [
      "tensor(7, device='cuda:0') tensor(7, device='cuda:0')\n",
      "tensor(3, device='cuda:0') tensor(3, device='cuda:0')\n",
      "tensor(7, device='cuda:0') tensor(7, device='cuda:0')\n",
      "tensor(3, device='cuda:0') tensor(3, device='cuda:0')\n",
      "tensor(3, device='cuda:0') tensor(3, device='cuda:0')\n",
      "tensor(8, device='cuda:0') tensor(8, device='cuda:0')\n"
     ]
    },
    {
     "data": {
      "image/png": "[encoded data removed]",
      "text/plain": [
       "<Figure size 1152x648 with 6 Axes>"
      ]
     },
     "metadata": {
      "needs_background": "light"
     },
     "output_type": "display_data"
    }
   ],
   "source": [
    "# Check how it detects in concrete examples\n",
    "fig, ax = plt.subplots( 2,3, figsize=(16,9))\n",
    "\n",
    "for i in range(2) :\n",
    "    for j in range(3) :\n",
    "        ax[i][j].imshow(X_test[200*i + 30*j].reshape([28,28]).cpu())\n",
    "        print(mnist_net.forward(X_test[200*i + 30*j]).argmax(), y_test[200*i + 30*j])"
   ]
  },
  {
   "cell_type": "code",
   "execution_count": 23,
   "metadata": {},
   "outputs": [
    {
     "ename": "IndexError",
     "evalue": "index 3 is out of bounds for axis 0 with size 2",
     "output_type": "error",
     "traceback": [
      "\u001b[0;31m---------------------------------------------------------------------------\u001b[0m",
      "\u001b[0;31mIndexError\u001b[0m                                Traceback (most recent call last)",
      "\u001b[1;32m/home/dendav/projects/Computer_vision_course_stepik/4_module/module04_mnist_fc.ipynb Cell 18'\u001b[0m in \u001b[0;36m<cell line: 2>\u001b[0;34m()\u001b[0m\n\u001b[1;32m      <a href='vscode-notebook-cell:/home/dendav/projects/Computer_vision_course_stepik/4_module/module04_mnist_fc.ipynb#ch0000021?line=0'>1</a>\u001b[0m aa \u001b[39m=\u001b[39m np\u001b[39m.\u001b[39mzeros((\u001b[39m2\u001b[39m,\u001b[39m3\u001b[39m))\n\u001b[0;32m----> <a href='vscode-notebook-cell:/home/dendav/projects/Computer_vision_course_stepik/4_module/module04_mnist_fc.ipynb#ch0000021?line=1'>2</a>\u001b[0m aa[\u001b[39m3\u001b[39;49m]\n",
      "\u001b[0;31mIndexError\u001b[0m: index 3 is out of bounds for axis 0 with size 2"
     ]
    }
   ],
   "source": [
    "aa = np.zeros((2,3))\n"
   ]
  },
  {
   "cell_type": "markdown",
   "metadata": {},
   "source": [
    "## Task 4.4.2\n",
    "В предыдущем шаге мы написали функцию, эмулирующую fc-слой. Проверим, что по ней правильно считается градиент. \n",
    "\n",
    "Функцию backward() в PyTorch можно посчитать только от скалярной функции (выход из такой функции – одно число). Это логично, так как loss-функция выдает всегда одно число. Но fc-слой, который мы проэмулировали, имел 3 выхода. Предлагаем их просуммировать, чтобы получить в итоге скалярную функцию. Заметим, впрочем, что можно было бы выбрать любую агрегирующую операцию, например умножение.\n",
    "\n",
    "Дополните код так, чтобы градиент по весам и смещениям (bias) совпадал с аналогичным градиентом в вашей фунции.\n",
    "\n",
    "Чем обусловлен полученный градиент? Изменится ли он, если мы подадим другие входы или другую инициализацию весов?"
   ]
  },
  {
   "cell_type": "code",
   "execution_count": 18,
   "metadata": {},
   "outputs": [
    {
     "name": "stdout",
     "output_type": "stream",
     "text": [
      "fc_weight_grad: tensor([[10., 20.],\n",
      "        [10., 20.],\n",
      "        [10., 20.]])\n",
      "our_weight_grad: tensor([[10., 20.],\n",
      "        [10., 20.],\n",
      "        [10., 20.]])\n",
      "fc_bias_grad: tensor([[1., 1., 1.]])\n",
      "out_bias_grad: tensor([[1., 1., 1.]])\n"
     ]
    }
   ],
   "source": [
    "import torch\n",
    "\n",
    "# Сперва создадим тензор x:\n",
    "x = torch.tensor([[10., 20.]])\n",
    "\n",
    "# Оригинальный полносвязный слой с 2-мя входами и 3-мя нейронами (выходами):\n",
    "fc = torch.nn.Linear(2, 3)\n",
    "\n",
    "# Веса fc-слоя хранятся в fc.weight, а bias'ы соответственно в fc.bias\n",
    "# fc.weight и fc.bias по умолчанию инициализируются случайными числами\n",
    "\n",
    "# Давайте проставим свои значения в веса и bias'ы:\n",
    "w = torch.tensor([[11., 12.], [21., 22.], [31., 32]])\n",
    "fc.weight.data = w\n",
    "\n",
    "b = torch.tensor([[31., 32., 33.]])\n",
    "fc.bias.data = b\n",
    "\n",
    "# Получим выход fc-слоя:\n",
    "fc_out = fc(x)\n",
    "# Просуммируем выход fc-слоя, чтобы получить скаляр:\n",
    "fc_out_summed = fc_out.sum()\n",
    "\n",
    "# Посчитаем градиенты формулы fc_out_summed:\n",
    "fc_out_summed.backward()\n",
    "weight_grad = fc.weight.grad\n",
    "bias_grad = fc.bias.grad\n",
    "\n",
    "# Ok, теперь воспроизведем вычисления выше но без fc-слоя:\n",
    "# Проставим, что у \"w\" и \"b\" нужно вычислять градиенты (для fc-слоя это произошло автоматически):\n",
    "w.requires_grad_(True)\n",
    "b.requires_grad_(True)\n",
    "\n",
    "# Получим выход нашей формулы:\n",
    "our_formula = (x.mm(w.t()) + b).sum() # ... # SUM{x * w^T + b}\n",
    "\n",
    "# Сделайте backward для нашей формулы:\n",
    "our_formula.backward()\n",
    "\n",
    "# Проверка осуществляется автоматически, вызовом функций:\n",
    "print('fc_weight_grad:', weight_grad)\n",
    "print('our_weight_grad:', w.grad)\n",
    "print('fc_bias_grad:', bias_grad)\n",
    "print('out_bias_grad:', b.grad)\n",
    "# (раскомментируйте, если работаете над задачей локально)"
   ]
  },
  {
   "cell_type": "code",
   "execution_count": null,
   "metadata": {},
   "outputs": [],
   "source": []
  }
 ],
 "metadata": {
  "accelerator": "GPU",
  "colab": {
   "collapsed_sections": [],
   "name": "Lesson 5 Digits Recognition Video.ipynb",
   "provenance": [],
   "version": "0.3.2"
  },
  "kernelspec": {
   "display_name": "Python 3.8.10 64-bit",
   "language": "python",
   "name": "python3"
  },
  "language_info": {
   "codemirror_mode": {
    "name": "ipython",
    "version": 3
   },
   "file_extension": ".py",
   "mimetype": "text/x-python",
   "name": "python",
   "nbconvert_exporter": "python",
   "pygments_lexer": "ipython3",
   "version": "3.8.10"
  },
  "vscode": {
   "interpreter": {
    "hash": "916dbcbb3f70747c44a77c7bcd40155683ae19c65e1c03b4aa3499c5328201f1"
   }
  }
 },
 "nbformat": 4,
 "nbformat_minor": 1
}
